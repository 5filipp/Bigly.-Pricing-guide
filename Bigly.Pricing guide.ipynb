{
 "cells": [
  {
   "cell_type": "markdown",
   "metadata": {},
   "source": [
    "The business goal of the observation is to provide the correct pricing guide for notary services.\n",
    "The technical purpose is to identify variables that have a correlation with the notary's fee size.\n",
    "\n",
    "Provided historical data was filtered by:\n",
    "    - State 'AL'\n",
    "    - Order status 'completed'\n",
    "    - Top 10 best notaries were included in the sample.\n",
    "\n",
    "Also, duplicates and single values, that are beyond the 95th percentile (extremely high, low, negative, and zero fees) were also dropped.\n",
    "\n",
    "The sample included 393 orders.\n",
    "\n",
    "Mutual Information Regression and linear regression methods were applied for each individual parameter. None of the variables showed a statistically significant constant correlation, but two were the closest: 'travel_distance' and 'product_name'. Based on them, a pricing guide was suggested:\n",
    "Base rate:\n",
    "**purchase** is 90 dol.\n",
    "**refinance** is 95 dol.\n",
    "**reverse_mortgage** is 125 dol.\n",
    "\n",
    "And an additional fee if the travel distance is over 5 or 20 miles (+10 dol. and 20 dol. accordingly).\n",
    "\n",
    "\n",
    "**(Bigly part:)\n",
    "Price guidance:**\n",
    "\n",
    "Depends on the type of signature:\n",
    "Purchase fee is 90 dol.\n",
    "Refinance fee is 95 dol.\n",
    "Reverse mortgage fee is 125 dol.\n",
    "\n",
    "**an additional fee will be applied if the travel distance is over 5 and 20 mi (+10 dol. and + 20 dol. accordingly).*"
   ]
  },
  {
   "cell_type": "code",
   "execution_count": 125,
   "metadata": {
    "pycharm": {
     "name": "#%%\n"
    }
   },
   "outputs": [],
   "source": [
    "import numpy as np\n",
    "from scipy import stats\n",
    "import matplotlib.pyplot as plt\n",
    "import pandas as pd\n",
    "import matplotlib.pyplot as plt"
   ]
  },
  {
   "cell_type": "markdown",
   "metadata": {
    "pycharm": {
     "name": "#%% md\n"
    }
   },
   "source": [
    "**Load the data**"
   ]
  },
  {
   "cell_type": "code",
   "execution_count": 126,
   "metadata": {
    "pycharm": {
     "name": "#%%\n"
    }
   },
   "outputs": [
    {
     "data": {
      "text/plain": "   order_id completed_status state  company_id  notary_id  total_notary_fee  \\\n0    528697        completed    TN           2    32983.0              -1.0   \n1    575639         canceled    AL           1    38245.0              90.0   \n2    575678        completed    AL           1    64953.0             115.0   \n3    537379        completed    TN           3    33059.0              -1.0   \n4    537609        completed    TN           2    32974.0              -1.0   \n\n            city appointment_date product_name  travel_distance  \\\n0        ANTIOCH          8/19/16    refinance         8.894987   \n1     Montgomery          8/25/16    refinance        12.093414   \n2      Pell City          8/25/16    refinance        19.598051   \n3  Johnston City          8/10/16     purchase        12.307267   \n4        MEMPHIS           8/3/16    refinance         5.463610   \n\n  docs_to_notary_sent  \n0      sent_by_client  \n1      sent_by_client  \n2      sent_by_client  \n3                sent  \n4      sent_by_client  ",
      "text/html": "<div>\n<style scoped>\n    .dataframe tbody tr th:only-of-type {\n        vertical-align: middle;\n    }\n\n    .dataframe tbody tr th {\n        vertical-align: top;\n    }\n\n    .dataframe thead th {\n        text-align: right;\n    }\n</style>\n<table border=\"1\" class=\"dataframe\">\n  <thead>\n    <tr style=\"text-align: right;\">\n      <th></th>\n      <th>order_id</th>\n      <th>completed_status</th>\n      <th>state</th>\n      <th>company_id</th>\n      <th>notary_id</th>\n      <th>total_notary_fee</th>\n      <th>city</th>\n      <th>appointment_date</th>\n      <th>product_name</th>\n      <th>travel_distance</th>\n      <th>docs_to_notary_sent</th>\n    </tr>\n  </thead>\n  <tbody>\n    <tr>\n      <th>0</th>\n      <td>528697</td>\n      <td>completed</td>\n      <td>TN</td>\n      <td>2</td>\n      <td>32983.0</td>\n      <td>-1.0</td>\n      <td>ANTIOCH</td>\n      <td>8/19/16</td>\n      <td>refinance</td>\n      <td>8.894987</td>\n      <td>sent_by_client</td>\n    </tr>\n    <tr>\n      <th>1</th>\n      <td>575639</td>\n      <td>canceled</td>\n      <td>AL</td>\n      <td>1</td>\n      <td>38245.0</td>\n      <td>90.0</td>\n      <td>Montgomery</td>\n      <td>8/25/16</td>\n      <td>refinance</td>\n      <td>12.093414</td>\n      <td>sent_by_client</td>\n    </tr>\n    <tr>\n      <th>2</th>\n      <td>575678</td>\n      <td>completed</td>\n      <td>AL</td>\n      <td>1</td>\n      <td>64953.0</td>\n      <td>115.0</td>\n      <td>Pell City</td>\n      <td>8/25/16</td>\n      <td>refinance</td>\n      <td>19.598051</td>\n      <td>sent_by_client</td>\n    </tr>\n    <tr>\n      <th>3</th>\n      <td>537379</td>\n      <td>completed</td>\n      <td>TN</td>\n      <td>3</td>\n      <td>33059.0</td>\n      <td>-1.0</td>\n      <td>Johnston City</td>\n      <td>8/10/16</td>\n      <td>purchase</td>\n      <td>12.307267</td>\n      <td>sent</td>\n    </tr>\n    <tr>\n      <th>4</th>\n      <td>537609</td>\n      <td>completed</td>\n      <td>TN</td>\n      <td>2</td>\n      <td>32974.0</td>\n      <td>-1.0</td>\n      <td>MEMPHIS</td>\n      <td>8/3/16</td>\n      <td>refinance</td>\n      <td>5.463610</td>\n      <td>sent_by_client</td>\n    </tr>\n  </tbody>\n</table>\n</div>"
     },
     "execution_count": 126,
     "metadata": {},
     "output_type": "execute_result"
    }
   ],
   "source": [
    "orders = pd.read_csv('orders_(6)_(1).csv')\n",
    "orders.head()"
   ]
  },
  {
   "cell_type": "code",
   "execution_count": 127,
   "metadata": {
    "pycharm": {
     "name": "#%%\n"
    }
   },
   "outputs": [
    {
     "data": {
      "text/plain": "       id  order_id  notary_id    messaged_at   responded_at       response\n0  419549    518331      56757  7/14/16 21:14            NaN            NaN\n1  419549    518331      38401  7/14/16 21:14            NaN            NaN\n2  419549    518331      43485  7/14/16 21:15  7/14/16 21:25      available\n3  419549    518331      36051  7/14/16 21:15  7/14/16 21:21  not_available\n4  419549    518331      65851  7/14/16 21:16  7/14/16 21:17      available",
      "text/html": "<div>\n<style scoped>\n    .dataframe tbody tr th:only-of-type {\n        vertical-align: middle;\n    }\n\n    .dataframe tbody tr th {\n        vertical-align: top;\n    }\n\n    .dataframe thead th {\n        text-align: right;\n    }\n</style>\n<table border=\"1\" class=\"dataframe\">\n  <thead>\n    <tr style=\"text-align: right;\">\n      <th></th>\n      <th>id</th>\n      <th>order_id</th>\n      <th>notary_id</th>\n      <th>messaged_at</th>\n      <th>responded_at</th>\n      <th>response</th>\n    </tr>\n  </thead>\n  <tbody>\n    <tr>\n      <th>0</th>\n      <td>419549</td>\n      <td>518331</td>\n      <td>56757</td>\n      <td>7/14/16 21:14</td>\n      <td>NaN</td>\n      <td>NaN</td>\n    </tr>\n    <tr>\n      <th>1</th>\n      <td>419549</td>\n      <td>518331</td>\n      <td>38401</td>\n      <td>7/14/16 21:14</td>\n      <td>NaN</td>\n      <td>NaN</td>\n    </tr>\n    <tr>\n      <th>2</th>\n      <td>419549</td>\n      <td>518331</td>\n      <td>43485</td>\n      <td>7/14/16 21:15</td>\n      <td>7/14/16 21:25</td>\n      <td>available</td>\n    </tr>\n    <tr>\n      <th>3</th>\n      <td>419549</td>\n      <td>518331</td>\n      <td>36051</td>\n      <td>7/14/16 21:15</td>\n      <td>7/14/16 21:21</td>\n      <td>not_available</td>\n    </tr>\n    <tr>\n      <th>4</th>\n      <td>419549</td>\n      <td>518331</td>\n      <td>65851</td>\n      <td>7/14/16 21:16</td>\n      <td>7/14/16 21:17</td>\n      <td>available</td>\n    </tr>\n  </tbody>\n</table>\n</div>"
     },
     "execution_count": 127,
     "metadata": {},
     "output_type": "execute_result"
    }
   ],
   "source": [
    "messages = pd.read_csv('messages_(6)_(1).csv')\n",
    "messages.head()"
   ]
  },
  {
   "cell_type": "markdown",
   "metadata": {
    "pycharm": {
     "name": "#%% md\n"
    }
   },
   "source": []
  },
  {
   "cell_type": "code",
   "execution_count": 128,
   "metadata": {
    "pycharm": {
     "name": "#%%\n"
    }
   },
   "outputs": [],
   "source": [
    "messages = messages.drop_duplicates(['notary_id'])"
   ]
  },
  {
   "cell_type": "markdown",
   "metadata": {},
   "source": [
    "**Filter top 10 best notaties**"
   ]
  },
  {
   "cell_type": "code",
   "execution_count": 129,
   "metadata": {
    "pycharm": {
     "name": "#%%\n"
    }
   },
   "outputs": [],
   "source": [
    "messages = messages.sort_values(['order_id', 'messaged_at']).groupby('order_id').head(10)"
   ]
  },
  {
   "cell_type": "markdown",
   "metadata": {
    "pycharm": {
     "name": "#%% md\n"
    }
   },
   "source": [
    "**Drop duplicated rows (orders dataset)**"
   ]
  },
  {
   "cell_type": "code",
   "execution_count": 130,
   "metadata": {
    "pycharm": {
     "name": "#%%\n"
    }
   },
   "outputs": [],
   "source": [
    "orders = orders.drop_duplicates()"
   ]
  },
  {
   "cell_type": "markdown",
   "metadata": {
    "pycharm": {
     "name": "#%% md\n"
    }
   },
   "source": [
    "**Filter by state 'AL' and status 'completed'**"
   ]
  },
  {
   "cell_type": "code",
   "execution_count": 131,
   "metadata": {
    "pycharm": {
     "name": "#%%\n"
    }
   },
   "outputs": [],
   "source": [
    "orders = orders[(orders['completed_status'] == 'completed') & (orders['state'] == 'AL')]"
   ]
  },
  {
   "cell_type": "markdown",
   "metadata": {
    "pycharm": {
     "name": "#%% md\n"
    }
   },
   "source": [
    "**Filter by top 10 notaries**"
   ]
  },
  {
   "cell_type": "code",
   "execution_count": 132,
   "metadata": {
    "pycharm": {
     "name": "#%%\n"
    }
   },
   "outputs": [],
   "source": [
    "orders = orders[orders['notary_id'].isin(messages['notary_id'])]"
   ]
  },
  {
   "cell_type": "markdown",
   "metadata": {
    "pycharm": {
     "name": "#%% md\n"
    }
   },
   "source": [
    "**Remove outliers (extra high, low, negative and zero's notary rates)**\n",
    "**by applying 3 standard deviations to the total_notary_fee field**"
   ]
  },
  {
   "cell_type": "code",
   "execution_count": 133,
   "metadata": {
    "pycharm": {
     "name": "#%%\n"
    }
   },
   "outputs": [],
   "source": [
    "orders = orders[(np.abs(stats.zscore(orders['total_notary_fee'])) < 3)]\n",
    "orders = orders.sort_values(['total_notary_fee'])"
   ]
  },
  {
   "cell_type": "markdown",
   "metadata": {
    "pycharm": {
     "name": "#%% md\n"
    }
   },
   "source": [
    "**Split out the dataset into 3 parts according to the name of 'product_name'**\n",
    "**as this feature is the most correlated with the 'total_notary_fee'**"
   ]
  },
  {
   "cell_type": "code",
   "execution_count": 134,
   "metadata": {
    "pycharm": {
     "name": "#%%\n"
    }
   },
   "outputs": [
    {
     "data": {
      "text/plain": "            order_id  company_id     notary_id  total_notary_fee  \\\ncount      25.000000   25.000000     25.000000         25.000000   \nmean   567210.160000    1.080000  46847.960000         83.600000   \nstd     19517.823418    1.077033  16727.020906         11.503623   \nmin    528189.000000    0.000000  12968.000000         70.000000   \n25%    553312.000000    0.000000  38668.000000         75.000000   \n50%    567727.000000    1.000000  45117.000000         80.000000   \n75%    582175.000000    1.000000  60124.000000         90.000000   \nmax    597228.000000    3.000000  71151.000000        115.000000   \n\n       travel_distance  \ncount        25.000000  \nmean         15.100050  \nstd          13.740030  \nmin           0.709099  \n25%           3.455258  \n50%          11.327771  \n75%          18.297129  \nmax          54.271594  ",
      "text/html": "<div>\n<style scoped>\n    .dataframe tbody tr th:only-of-type {\n        vertical-align: middle;\n    }\n\n    .dataframe tbody tr th {\n        vertical-align: top;\n    }\n\n    .dataframe thead th {\n        text-align: right;\n    }\n</style>\n<table border=\"1\" class=\"dataframe\">\n  <thead>\n    <tr style=\"text-align: right;\">\n      <th></th>\n      <th>order_id</th>\n      <th>company_id</th>\n      <th>notary_id</th>\n      <th>total_notary_fee</th>\n      <th>travel_distance</th>\n    </tr>\n  </thead>\n  <tbody>\n    <tr>\n      <th>count</th>\n      <td>25.000000</td>\n      <td>25.000000</td>\n      <td>25.000000</td>\n      <td>25.000000</td>\n      <td>25.000000</td>\n    </tr>\n    <tr>\n      <th>mean</th>\n      <td>567210.160000</td>\n      <td>1.080000</td>\n      <td>46847.960000</td>\n      <td>83.600000</td>\n      <td>15.100050</td>\n    </tr>\n    <tr>\n      <th>std</th>\n      <td>19517.823418</td>\n      <td>1.077033</td>\n      <td>16727.020906</td>\n      <td>11.503623</td>\n      <td>13.740030</td>\n    </tr>\n    <tr>\n      <th>min</th>\n      <td>528189.000000</td>\n      <td>0.000000</td>\n      <td>12968.000000</td>\n      <td>70.000000</td>\n      <td>0.709099</td>\n    </tr>\n    <tr>\n      <th>25%</th>\n      <td>553312.000000</td>\n      <td>0.000000</td>\n      <td>38668.000000</td>\n      <td>75.000000</td>\n      <td>3.455258</td>\n    </tr>\n    <tr>\n      <th>50%</th>\n      <td>567727.000000</td>\n      <td>1.000000</td>\n      <td>45117.000000</td>\n      <td>80.000000</td>\n      <td>11.327771</td>\n    </tr>\n    <tr>\n      <th>75%</th>\n      <td>582175.000000</td>\n      <td>1.000000</td>\n      <td>60124.000000</td>\n      <td>90.000000</td>\n      <td>18.297129</td>\n    </tr>\n    <tr>\n      <th>max</th>\n      <td>597228.000000</td>\n      <td>3.000000</td>\n      <td>71151.000000</td>\n      <td>115.000000</td>\n      <td>54.271594</td>\n    </tr>\n  </tbody>\n</table>\n</div>"
     },
     "execution_count": 134,
     "metadata": {},
     "output_type": "execute_result"
    }
   ],
   "source": [
    "purchase = orders[orders['product_name'] == 'purchase']\n",
    "purchase.describe()"
   ]
  },
  {
   "cell_type": "code",
   "execution_count": 135,
   "metadata": {
    "pycharm": {
     "name": "#%%\n"
    }
   },
   "outputs": [
    {
     "data": {
      "text/plain": "            order_id  company_id     notary_id  total_notary_fee  \\\ncount     335.000000  335.000000    335.000000        335.000000   \nmean   565009.071642    2.304478  50437.868657         94.626866   \nstd     16936.982010    1.045296  17977.794325          8.578339   \nmin    524129.000000    0.000000   1742.000000         40.000000   \n25%    549818.000000    1.000000  38308.000000         95.000000   \n50%    566853.000000    3.000000  53197.000000         95.000000   \n75%    578351.500000    3.000000  65839.500000         95.000000   \nmax    599452.000000    3.000000  72190.000000        125.000000   \n\n       travel_distance  \ncount       335.000000  \nmean         13.105551  \nstd          10.434642  \nmin           0.475750  \n25%           4.874319  \n50%          10.857317  \n75%          18.006090  \nmax          57.544232  ",
      "text/html": "<div>\n<style scoped>\n    .dataframe tbody tr th:only-of-type {\n        vertical-align: middle;\n    }\n\n    .dataframe tbody tr th {\n        vertical-align: top;\n    }\n\n    .dataframe thead th {\n        text-align: right;\n    }\n</style>\n<table border=\"1\" class=\"dataframe\">\n  <thead>\n    <tr style=\"text-align: right;\">\n      <th></th>\n      <th>order_id</th>\n      <th>company_id</th>\n      <th>notary_id</th>\n      <th>total_notary_fee</th>\n      <th>travel_distance</th>\n    </tr>\n  </thead>\n  <tbody>\n    <tr>\n      <th>count</th>\n      <td>335.000000</td>\n      <td>335.000000</td>\n      <td>335.000000</td>\n      <td>335.000000</td>\n      <td>335.000000</td>\n    </tr>\n    <tr>\n      <th>mean</th>\n      <td>565009.071642</td>\n      <td>2.304478</td>\n      <td>50437.868657</td>\n      <td>94.626866</td>\n      <td>13.105551</td>\n    </tr>\n    <tr>\n      <th>std</th>\n      <td>16936.982010</td>\n      <td>1.045296</td>\n      <td>17977.794325</td>\n      <td>8.578339</td>\n      <td>10.434642</td>\n    </tr>\n    <tr>\n      <th>min</th>\n      <td>524129.000000</td>\n      <td>0.000000</td>\n      <td>1742.000000</td>\n      <td>40.000000</td>\n      <td>0.475750</td>\n    </tr>\n    <tr>\n      <th>25%</th>\n      <td>549818.000000</td>\n      <td>1.000000</td>\n      <td>38308.000000</td>\n      <td>95.000000</td>\n      <td>4.874319</td>\n    </tr>\n    <tr>\n      <th>50%</th>\n      <td>566853.000000</td>\n      <td>3.000000</td>\n      <td>53197.000000</td>\n      <td>95.000000</td>\n      <td>10.857317</td>\n    </tr>\n    <tr>\n      <th>75%</th>\n      <td>578351.500000</td>\n      <td>3.000000</td>\n      <td>65839.500000</td>\n      <td>95.000000</td>\n      <td>18.006090</td>\n    </tr>\n    <tr>\n      <th>max</th>\n      <td>599452.000000</td>\n      <td>3.000000</td>\n      <td>72190.000000</td>\n      <td>125.000000</td>\n      <td>57.544232</td>\n    </tr>\n  </tbody>\n</table>\n</div>"
     },
     "execution_count": 135,
     "metadata": {},
     "output_type": "execute_result"
    }
   ],
   "source": [
    "refinance = orders[orders['product_name'] == 'refinance']\n",
    "refinance.describe()"
   ]
  },
  {
   "cell_type": "code",
   "execution_count": 136,
   "metadata": {
    "pycharm": {
     "name": "#%%\n"
    }
   },
   "outputs": [
    {
     "data": {
      "text/plain": "            order_id  company_id     notary_id  total_notary_fee  \\\ncount      33.000000   33.000000     33.000000         33.000000   \nmean   571565.727273    1.818182  46341.000000        118.484848   \nstd     15675.501777    1.285850  16861.525928          9.311019   \nmin    546195.000000    0.000000  12968.000000        100.000000   \n25%    558604.000000    0.000000  38245.000000        115.000000   \n50%    573483.000000    2.000000  42750.000000        115.000000   \n75%    587088.000000    3.000000  63528.000000        125.000000   \nmax    596311.000000    3.000000  71514.000000        140.000000   \n\n       travel_distance  \ncount        33.000000  \nmean         17.479281  \nstd          15.555381  \nmin           1.453150  \n25%           7.796508  \n50%          13.534674  \n75%          19.591437  \nmax          73.298858  ",
      "text/html": "<div>\n<style scoped>\n    .dataframe tbody tr th:only-of-type {\n        vertical-align: middle;\n    }\n\n    .dataframe tbody tr th {\n        vertical-align: top;\n    }\n\n    .dataframe thead th {\n        text-align: right;\n    }\n</style>\n<table border=\"1\" class=\"dataframe\">\n  <thead>\n    <tr style=\"text-align: right;\">\n      <th></th>\n      <th>order_id</th>\n      <th>company_id</th>\n      <th>notary_id</th>\n      <th>total_notary_fee</th>\n      <th>travel_distance</th>\n    </tr>\n  </thead>\n  <tbody>\n    <tr>\n      <th>count</th>\n      <td>33.000000</td>\n      <td>33.000000</td>\n      <td>33.000000</td>\n      <td>33.000000</td>\n      <td>33.000000</td>\n    </tr>\n    <tr>\n      <th>mean</th>\n      <td>571565.727273</td>\n      <td>1.818182</td>\n      <td>46341.000000</td>\n      <td>118.484848</td>\n      <td>17.479281</td>\n    </tr>\n    <tr>\n      <th>std</th>\n      <td>15675.501777</td>\n      <td>1.285850</td>\n      <td>16861.525928</td>\n      <td>9.311019</td>\n      <td>15.555381</td>\n    </tr>\n    <tr>\n      <th>min</th>\n      <td>546195.000000</td>\n      <td>0.000000</td>\n      <td>12968.000000</td>\n      <td>100.000000</td>\n      <td>1.453150</td>\n    </tr>\n    <tr>\n      <th>25%</th>\n      <td>558604.000000</td>\n      <td>0.000000</td>\n      <td>38245.000000</td>\n      <td>115.000000</td>\n      <td>7.796508</td>\n    </tr>\n    <tr>\n      <th>50%</th>\n      <td>573483.000000</td>\n      <td>2.000000</td>\n      <td>42750.000000</td>\n      <td>115.000000</td>\n      <td>13.534674</td>\n    </tr>\n    <tr>\n      <th>75%</th>\n      <td>587088.000000</td>\n      <td>3.000000</td>\n      <td>63528.000000</td>\n      <td>125.000000</td>\n      <td>19.591437</td>\n    </tr>\n    <tr>\n      <th>max</th>\n      <td>596311.000000</td>\n      <td>3.000000</td>\n      <td>71514.000000</td>\n      <td>140.000000</td>\n      <td>73.298858</td>\n    </tr>\n  </tbody>\n</table>\n</div>"
     },
     "execution_count": 136,
     "metadata": {},
     "output_type": "execute_result"
    }
   ],
   "source": [
    "reverse_mortgage = orders[orders['product_name'] == 'reverse mortgage']\n",
    "reverse_mortgage.describe()"
   ]
  },
  {
   "cell_type": "markdown",
   "metadata": {
    "pycharm": {
     "name": "#%% md\n"
    }
   },
   "source": [
    "**As seen from the details, 75% procentils of total_notary_fee are:**\n",
    "**purchase** is 90\n",
    "**refinance** is 95\n",
    "**reverse_mortgage** is 125\n",
    "**Which can be interpreted as a base rate fee.**"
   ]
  },
  {
   "cell_type": "markdown",
   "metadata": {
    "pycharm": {
     "name": "#%% md\n"
    }
   },
   "source": [
    "**EDA:**"
   ]
  },
  {
   "cell_type": "code",
   "execution_count": 137,
   "metadata": {
    "pycharm": {
     "name": "#%%\n"
    }
   },
   "outputs": [
    {
     "data": {
      "text/plain": "<Figure size 432x288 with 1 Axes>",
      "image/png": "[encoded data removed]"
     },
     "metadata": {
      "needs_background": "light"
     },
     "output_type": "display_data"
    }
   ],
   "source": [
    "plt.scatter(refinance['total_notary_fee'], refinance['travel_distance'], label='refinance')\n",
    "plt.scatter(purchase['total_notary_fee'], purchase['travel_distance'], label='purchase')\n",
    "plt.scatter(reverse_mortgage['total_notary_fee'], reverse_mortgage['travel_distance'], label='reverse_mortgage')\n",
    "plt.title('Dependency notary_fee on product_name & travel-distance')\n",
    "plt.xlabel(\"total_notary_fee\")\n",
    "plt.ylabel(\"travel_distance\")\n",
    "plt.legend()\n",
    "plt.show()"
   ]
  },
  {
   "cell_type": "markdown",
   "metadata": {
    "pycharm": {
     "name": "#%% md\n"
    }
   },
   "source": [
    "**As seen on the chart there total_notary_fee is also is depending on 'travel_distance'.**   \n",
    "**This dependency can be interpreted as an additional cost**   \n",
    "+10 dollars to the base fee if the 'travel_distance' > 5 mi and   \n",
    "+20 dollars the base fee if the 'travel_distance' > 20 mi"
   ]
  }
 ],
 "metadata": {
  "kernelspec": {
   "display_name": "Python 3",
   "language": "python",
   "name": "python3"
  },
  "language_info": {
   "codemirror_mode": {
    "name": "ipython",
    "version": 3
   },
   "file_extension": ".py",
   "mimetype": "text/x-python",
   "name": "python",
   "nbconvert_exporter": "python",
   "pygments_lexer": "ipython3",
   "version": "3.10.1"
  }
 },
 "nbformat": 4,
 "nbformat_minor": 1
}